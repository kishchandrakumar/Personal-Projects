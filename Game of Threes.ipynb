{
 "cells": [
  {
   "cell_type": "markdown",
   "metadata": {},
   "source": [
    "A game of Threes from Reddit: https://www.reddit.com/r/dailyprogrammer/comments/3r7wxz/20151102_challenge_239_easy_a_game_of_threes/\n",
    "\n",
    "Rules: \n",
    "\n",
    "For any input number:\n",
    "\n",
    "- If the number is divisible by 3, divide it by 3.\n",
    "\n",
    "- If it's not, either add 1 or subtract 1 (to make it divisible by 3), then divide it by 3.\n",
    "\n",
    "The game stops when you reach \"1\".\n",
    "\n",
    "Challenge Description\n",
    "The input is a single number: the number at which the game starts. Write a program that plays the Threes game, and outputs a valid sequence of steps you need to take to get to 1. Each step should be output as the number you start at, followed by either -1 or 1 (if you are adding/subtracting 1 before dividing), or 0 (if you are just dividing). The last line should simply be 1.\n",
    "\n"
   ]
  },
  {
   "cell_type": "code",
   "execution_count": 7,
   "metadata": {},
   "outputs": [],
   "source": [
    "def threes_game(x):\n",
    "    while x != 1:        #Loop stops once 1 is reached\n",
    "    \n",
    "        if x%3 == 0: #ie divisible by 3\n",
    "            x = x/3\n",
    "            print(int(x))\n",
    "            continue\n",
    "        \n",
    "        elif (x+1)%3 == 0:\n",
    "            x += 1\n",
    "            x = x/3\n",
    "            print(int(x))\n",
    "            continue\n",
    "        \n",
    "        else:\n",
    "            x -= 1\n",
    "            x = x/3\n",
    "            print(int(x))\n",
    "            continue\n",
    "        \n",
    "    return 'Complete'\n",
    "            "
   ]
  },
  {
   "cell_type": "code",
   "execution_count": 12,
   "metadata": {},
   "outputs": [
    {
     "name": "stdout",
     "output_type": "stream",
     "text": [
      "33\n",
      "11\n",
      "4\n",
      "1\n"
     ]
    },
    {
     "data": {
      "text/plain": [
       "'Complete'"
      ]
     },
     "execution_count": 12,
     "metadata": {},
     "output_type": "execute_result"
    }
   ],
   "source": [
    "#Testing the function\n",
    "\n",
    "threes_game(100)"
   ]
  },
  {
   "cell_type": "code",
   "execution_count": 14,
   "metadata": {},
   "outputs": [
    {
     "name": "stdout",
     "output_type": "stream",
     "text": [
      "137\n",
      "46\n",
      "15\n",
      "5\n",
      "2\n",
      "1\n"
     ]
    },
    {
     "data": {
      "text/plain": [
       "'Complete'"
      ]
     },
     "execution_count": 14,
     "metadata": {},
     "output_type": "execute_result"
    }
   ],
   "source": [
    "threes_game(412)"
   ]
  },
  {
   "cell_type": "code",
   "execution_count": 15,
   "metadata": {},
   "outputs": [
    {
     "name": "stdout",
     "output_type": "stream",
     "text": [
      "7694734625\n",
      "2564911542\n",
      "854970514\n",
      "284990171\n",
      "94996724\n",
      "31665575\n",
      "10555192\n",
      "3518397\n",
      "1172799\n",
      "390933\n",
      "130311\n",
      "43437\n",
      "14479\n",
      "4826\n",
      "1609\n",
      "536\n",
      "179\n",
      "60\n",
      "20\n",
      "7\n",
      "2\n",
      "1\n"
     ]
    },
    {
     "data": {
      "text/plain": [
       "'Complete'"
      ]
     },
     "execution_count": 15,
     "metadata": {},
     "output_type": "execute_result"
    }
   ],
   "source": [
    "threes_game(23084203874)"
   ]
  },
  {
   "cell_type": "code",
   "execution_count": null,
   "metadata": {},
   "outputs": [],
   "source": []
  }
 ],
 "metadata": {
  "kernelspec": {
   "display_name": "Python 3",
   "language": "python",
   "name": "python3"
  },
  "language_info": {
   "codemirror_mode": {
    "name": "ipython",
    "version": 3
   },
   "file_extension": ".py",
   "mimetype": "text/x-python",
   "name": "python",
   "nbconvert_exporter": "python",
   "pygments_lexer": "ipython3",
   "version": "3.7.6"
  }
 },
 "nbformat": 4,
 "nbformat_minor": 4
}

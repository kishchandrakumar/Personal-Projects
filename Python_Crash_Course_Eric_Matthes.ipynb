{
 "cells": [
  {
   "cell_type": "markdown",
   "metadata": {},
   "source": [
    "2nd Edition of Eric Matthes' Python Crash Course. Walkthrough tutorial to learn the basics of Python.\n",
    "\n",
    "This tutorial will cover:\n",
    "\n",
    "- Working with and storing code into python modules \n",
    "- Working with classes and storing them in modules\n",
    "- Handling exceptions and its importance\n",
    "- Testing our code\n",
    "- Working with APIs"
   ]
  },
  {
   "cell_type": "code",
   "execution_count": 6,
   "metadata": {},
   "outputs": [
    {
     "name": "stdout",
     "output_type": "stream",
     "text": [
      "({'first_name': 'kish'}, {'last_name': 'chand'})\n"
     ]
    }
   ],
   "source": [
    "def build_profile(first, last):\n",
    "    user_info = {}\n",
    "    other_info = {}\n",
    "    user_info['first_name']  = first\n",
    "    other_info['last_name']  = last\n",
    "    return user_info, other_info\n",
    "\n",
    "user_profile = build_profile('kish','chand')\n",
    "print(user_profile)"
   ]
  },
  {
   "cell_type": "code",
   "execution_count": 8,
   "metadata": {},
   "outputs": [
    {
     "name": "stdout",
     "output_type": "stream",
     "text": [
      "({'test': '3', 'test2': '4', 'first_name': 'kish'}, {'last_name': 'chand'})\n"
     ]
    }
   ],
   "source": [
    "def build_profile(first, last, **user_info):  #Essentially kwargs creates an empty dictionary for us\n",
    "    other_info = {}     #so we don't need to define user_info here\n",
    "    user_info['first_name'] = first\n",
    "    other_info['last_name']  = last\n",
    "    return user_info, other_info\n",
    "\n",
    "user_profile = build_profile('kish','chand',test='3',test2='4')\n",
    "print(user_profile)"
   ]
  },
  {
   "cell_type": "code",
   "execution_count": null,
   "metadata": {},
   "outputs": [],
   "source": []
  }
 ],
 "metadata": {
  "kernelspec": {
   "display_name": "Python 3",
   "language": "python",
   "name": "python3"
  },
  "language_info": {
   "codemirror_mode": {
    "name": "ipython",
    "version": 3
   },
   "file_extension": ".py",
   "mimetype": "text/x-python",
   "name": "python",
   "nbconvert_exporter": "python",
   "pygments_lexer": "ipython3",
   "version": "3.7.6"
  }
 },
 "nbformat": 4,
 "nbformat_minor": 4
}

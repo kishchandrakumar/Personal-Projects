{
 "cells": [
  {
   "cell_type": "markdown",
   "metadata": {
    "collapsed": true
   },
   "source": [
    "# Simplified Blackjack\n",
    "In this notebook, I will attempt to code a game of simplified blackjack (assumptions below). Afterwards, there are some walkthrough tutorial exercises which were completed after my attempt for learning purposes. "
   ]
  },
  {
   "cell_type": "markdown",
   "metadata": {},
   "source": [
    "Game starts with 2 cards each, and one of the dealer's cards is face down. \n",
    "\n",
    "Player then chooses to stay (don't receive a card) or hit (receive a card) repeatedly until they want to stay. If player goes over 21, they lose. If the player gets 21 exactly, they win.\n",
    "Otherwise: \n",
    "\n",
    "Dealer reveals the hidden card/hits until they beat the player (whilst 21 or under) or go bust. "
   ]
  },
  {
   "cell_type": "markdown",
   "metadata": {},
   "source": [
    "Scarios with Ace:\n",
    "- Start with value = 11. As cards are drawn by, check for bust. If bust happens and Ace exists, change its value to 1 and continue to draw or stay\n",
    "\n",
    "\n",
    "\n"
   ]
  },
  {
   "cell_type": "markdown",
   "metadata": {},
   "source": [
    "## Game Play\n",
    "To play a hand of Blackjack the following steps must be followed:\n",
    "1. Create a deck of 52 cards\n",
    "2. Shuffle the deck\n",
    "3. Ask the Player for their bet\n",
    "4. Make sure that the Player's bet does not exceed their available chips\n",
    "5. Deal two cards to the Dealer and two cards to the Player\n",
    "6. Show only one of the Dealer's cards, the other remains hidden\n",
    "7. Show both of the Player's cards\n",
    "8. Ask the Player if they wish to Hit, and take another card\n",
    "9. If the Player's hand doesn't Bust (go over 21), ask if they'd like to Hit again.\n",
    "10. If a Player Stands, play the Dealer's hand. The dealer will always Hit until the Dealer's value meets or exceeds 17\n",
    "11. Determine the winner and adjust the Player's chips accordingly\n",
    "12. Ask the Player if they'd like to play again"
   ]
  },
  {
   "cell_type": "markdown",
   "metadata": {},
   "source": [
    "#### Assumptions \n",
    "\n",
    "In this game of simplified blackjack, we are ignoring double down, insurance or Split"
   ]
  },
  {
   "cell_type": "code",
   "execution_count": 12,
   "metadata": {},
   "outputs": [],
   "source": [
    "import random"
   ]
  },
  {
   "cell_type": "code",
   "execution_count": 13,
   "metadata": {},
   "outputs": [],
   "source": [
    "suits = ('Hearts', 'Diamonds', 'Spades', 'Clubs')\n",
    "ranks = ('Two', 'Three', 'Four', 'Five', 'Six', 'Seven', 'Eight', 'Nine', 'Ten', 'Jack', 'Queen', 'King', 'Ace')\n",
    "values = {'Two':2, 'Three':3, 'Four':4, 'Five':5, 'Six':6, 'Seven':7, 'Eight':8, \n",
    "            'Nine':9, 'Ace':11}\n",
    "\n",
    "class Card:\n",
    "    \n",
    "    def __init__(self, suit, rank):\n",
    "        self.suit = suit\n",
    "        self.rank = rank\n",
    "        if self.rank in ['Ten', 'Jack', 'Queen', 'King']:\n",
    "            self.value = 10\n",
    "        else:\n",
    "            self.value = values[rank]\n",
    "            \n",
    "    def __str__(self):\n",
    "        return self.rank+' of '+self.suit+f' (value {self.value})'\n",
    "    \n",
    "    \n",
    "class Deck:\n",
    "    \n",
    "    def __init__(self):\n",
    "        self.cards = []\n",
    "        for s in suits:\n",
    "            for r in ranks:\n",
    "                self.cards.append(Card(s,r))\n",
    "        cards = random.shuffle(self.cards)\n",
    "                \n",
    "    def __str__(self):\n",
    "        return f'a deck of {len(self.cards)} cards'\n",
    "        \n",
    "    def deal_one(self):\n",
    "        card = self.cards.pop(0) # top of the deck\n",
    "        return card\n",
    "\n",
    "class Betting_account:\n",
    "    def __init__(self, starting_amount):\n",
    "        self.balance = starting_amount\n",
    "        \n",
    "    def new_bet(self,amount):\n",
    "        self.bet_amount = amount\n",
    "        \n",
    "    def win_bet(self):\n",
    "        self.balance += self.bet_amount\n",
    "        \n",
    "    def lose_bet(self):\n",
    "        self.balance -= self.bet_amount\n",
    "        \n",
    "class Game_values:\n",
    "    def __init__(self, player_value = 0, dealer_value = 0):\n",
    "        self.player_value = player_value\n",
    "        self.dealer_value = dealer_value\n",
    "    \n",
    "    def reset_values(self):\n",
    "        self.player_value = 0\n",
    "        self.dealer_value = 0"
   ]
  },
  {
   "cell_type": "code",
   "execution_count": 14,
   "metadata": {},
   "outputs": [
    {
     "data": {
      "text/plain": [
       "100"
      ]
     },
     "execution_count": 14,
     "metadata": {},
     "output_type": "execute_result"
    }
   ],
   "source": [
    "test_bet_account = Betting_account(100)\n",
    "test_bet_account.balance"
   ]
  },
  {
   "cell_type": "code",
   "execution_count": 15,
   "metadata": {},
   "outputs": [
    {
     "data": {
      "text/plain": [
       "90"
      ]
     },
     "execution_count": 15,
     "metadata": {},
     "output_type": "execute_result"
    }
   ],
   "source": [
    "test_bet_account.new_bet(10)\n",
    "test_bet_account.lose_bet()\n",
    "test_bet_account.balance"
   ]
  },
  {
   "cell_type": "code",
   "execution_count": 16,
   "metadata": {},
   "outputs": [],
   "source": [
    "def update_values(hide_dealer = False):\n",
    "    global game\n",
    "    game = Game_values() # New instance of game values\n",
    "    # Player\n",
    "    game.player_value = sum([i.value for i in player_hand])\n",
    "    print(\"Player has:\")\n",
    "    for i in player_hand:\n",
    "        print(f\"- {i}\")\n",
    "    print(f\"for a total value of {game.player_value}\")\n",
    "\n",
    "    # dealer\n",
    "    if hide_dealer == True:\n",
    "        game.dealer_value = dealer_hand[0].value\n",
    "        print(f\"Dealer has: {dealer_hand[0]} and 1 unknown card\")\n",
    "    else:\n",
    "        game.dealer_value = sum([i.value for i in dealer_hand])\n",
    "        print(\"Dealer has:\")\n",
    "        for i in dealer_hand:\n",
    "            print(f\"- {i}\")\n",
    "        print(f\"for a total value of {game.dealer_value}\")\n",
    "    \n",
    "    \n",
    "def adjust_value_of_ace(list_of_cards):\n",
    "    '''\n",
    "    Returns True if an ace was adjusted to score 1\n",
    "    Returns False if player/dealer is bust\n",
    "    '''\n",
    "    values = [i.value for i in list_of_cards]\n",
    "    if sum(values) > 21 and 11 in values:\n",
    "        # eligible for adjustment\n",
    "        for index in range(len(values)):\n",
    "            if values[index] == 11:\n",
    "                list_of_cards[index].value = 1\n",
    "                return True #ensures only 1 Ace is adjusted \n",
    "    elif sum(values) > 21:\n",
    "        return False\n",
    "\n",
    "    \n",
    "def check_win_or_loss():\n",
    "    player_value = sum([i.value for i in player_hand])\n",
    "    dealer_value = sum([i.value for i in dealer_hand])\n",
    "    if player_value == 21:\n",
    "        print(\"Player's won!\")\n",
    "        myaccount.win_bet()\n",
    "        return True\n",
    "    elif player_value > 21:\n",
    "        print(\"Player's gone bust!\")\n",
    "        myaccount.lose_bet()\n",
    "        return True\n",
    "    elif dealer_value > 21:\n",
    "        print(\"Dealer's gone bust!\")\n",
    "        myaccount.win_bet()\n",
    "        return True\n",
    "    elif dealer_value > player_value:\n",
    "        print(\"Dealer wins!\")\n",
    "        myaccount.lose_bet()\n",
    "        return True\n",
    "    return False"
   ]
  },
  {
   "cell_type": "code",
   "execution_count": 21,
   "metadata": {},
   "outputs": [],
   "source": [
    "myaccount = Betting_account(1000)"
   ]
  },
  {
   "cell_type": "code",
   "execution_count": 19,
   "metadata": {},
   "outputs": [
    {
     "name": "stdout",
     "output_type": "stream",
     "text": [
      "Current bet is £100. Let's play!\n",
      "Player has:\n",
      "- Six of Diamonds (value 6)\n",
      "- Five of Spades (value 5)\n",
      "for a total value of 11\n",
      "Dealer has: Seven of Diamonds (value 7) and 1 unknown card\n",
      "Player has:\n",
      "- Six of Diamonds (value 6)\n",
      "- Five of Spades (value 5)\n",
      "- Ten of Diamonds (value 10)\n",
      "for a total value of 21\n",
      "Dealer has: Seven of Diamonds (value 7) and 1 unknown card\n",
      "Player's won!\n"
     ]
    }
   ],
   "source": [
    "\n",
    "while True:\n",
    "    mydeck = Deck()\n",
    "\n",
    "    # Ask player to place bet\n",
    "    while True:\n",
    "        try:\n",
    "            bet_input = int(input('How much would you like to bet? '))\n",
    "            myaccount.new_bet(bet_input)\n",
    "        except:\n",
    "            print('enter a valid integer')\n",
    "    # Check that player has enough to bet this amount\n",
    "        else: # executes if there is no exception\n",
    "            if myaccount.balance < bet_input:\n",
    "                print(f'Not enough funds! You only have £{myaccount.balance} available')\n",
    "                continue\n",
    "            elif myaccount.balance >= bet_input:\n",
    "                myaccount.new_bet = bet_input\n",
    "                break\n",
    "\n",
    "    print(f\"Current bet is £{myaccount.new_bet}. Let's play!\")\n",
    "\n",
    "    player_hand, dealer_hand = [], []\n",
    "\n",
    "    for i in range(2):\n",
    "        player_hand.append(mydeck.deal_one())\n",
    "        dealer_hand.append(mydeck.deal_one())\n",
    "\n",
    "    # In case 2 Aces are drawn, 1 will be adjusted to have value of 1 to prevent bust\n",
    "    adjust_value_of_ace(player_hand) \n",
    "    adjust_value_of_ace(dealer_hand)\n",
    "    # Reveal cards dealt to player and 1 of the cards dealt to dealer\n",
    "    update_values(hide_dealer = True)\n",
    "    \n",
    "        \n",
    "    player_loss = False\n",
    "    while True:\n",
    "        hit_or_stay = input(\"'H' to hit, 'S' to stay: \")\n",
    "        if hit_or_stay == 'H':\n",
    "            player_hand.append(mydeck.deal_one())\n",
    "            adjust_value_of_ace(player_hand)\n",
    "            update_values(hide_dealer = True)\n",
    "            if check_win_or_loss():\n",
    "                player_loss = True\n",
    "                break\n",
    "        elif hit_or_stay == 'S':\n",
    "            break\n",
    "            \n",
    "    if player_loss == False:\n",
    "        # reveal hidden card and check for win\n",
    "        adjust_value_of_ace(dealer_hand)\n",
    "        update_values(hide_dealer = False)\n",
    "        if check_win_or_loss():\n",
    "            break\n",
    "        #if no win yet, then dealer hits until he beats player or busts \n",
    "        while True:\n",
    "            dealer_hand.append(mydeck.deal_one())\n",
    "            adjust_value_of_ace(dealer_hand)\n",
    "            update_values(hide_dealer = False)\n",
    "            if check_win_or_loss():\n",
    "                break\n",
    "        break\n",
    "\n",
    "    else:\n",
    "        break   \n"
   ]
  },
  {
   "cell_type": "code",
   "execution_count": 20,
   "metadata": {},
   "outputs": [
    {
     "data": {
      "text/plain": [
       "1100"
      ]
     },
     "execution_count": 20,
     "metadata": {},
     "output_type": "execute_result"
    }
   ],
   "source": [
    "myaccount.balance"
   ]
  },
  {
   "cell_type": "markdown",
   "metadata": {},
   "source": [
    "### Create a card class\n",
    "\n",
    "Each card has 1 of 4 suits and 1 of 13 ranks. Depending on rank, the card has a value. Jack, Queen and King all have value of 10 for this game. Ace can be a 1 or 11 depending on what the player prefers. Makes most sense to start with 11, then if the score is over 21, downgrade Ace to 1 to prevent going bust. "
   ]
  },
  {
   "cell_type": "code",
   "execution_count": null,
   "metadata": {},
   "outputs": [],
   "source": []
  },
  {
   "cell_type": "markdown",
   "metadata": {},
   "source": [
    "## Playing Cards\n",
    "A standard deck of playing cards has four suits (Hearts, Diamonds, Spades and Clubs) and thirteen ranks (2 through 10, then the face cards Jack, Queen, King and Ace) for a total of 52 cards per deck. Jacks, Queens and Kings all have a rank of 10. Aces have a rank of either 11 or 1 as needed to reach 21 without busting. As a starting point in your program, you may want to assign variables to store a list of suits, ranks, and then use a dictionary to map ranks to values."
   ]
  },
  {
   "cell_type": "markdown",
   "metadata": {},
   "source": [
    "## The Game\n",
    "### Imports and Global Variables\n",
    "** Step 1: Import the random module. This will be used to shuffle the deck prior to dealing. Then, declare variables to store suits, ranks and values. You can develop your own system, or copy ours below. Finally, declare a Boolean value to be used to control <code>while</code> loops. This is a common practice used to control the flow of the game.**\n",
    "\n",
    "    suits = ('Hearts', 'Diamonds', 'Spades', 'Clubs')\n",
    "    ranks = ('Two', 'Three', 'Four', 'Five', 'Six', 'Seven', 'Eight', 'Nine', 'Ten', 'Jack', 'Queen', 'King', 'Ace')\n",
    "    values = {'Two':2, 'Three':3, 'Four':4, 'Five':5, 'Six':6, 'Seven':7, 'Eight':8, 'Nine':9, 'Ten':10, 'Jack':10,\n",
    "             'Queen':10, 'King':10, 'Ace':11}"
   ]
  },
  {
   "cell_type": "code",
   "execution_count": null,
   "metadata": {},
   "outputs": [],
   "source": [
    "import random\n",
    "\n",
    "suits = pass\n",
    "ranks = pass\n",
    "values = pass\n",
    "\n",
    "playing = True"
   ]
  },
  {
   "cell_type": "markdown",
   "metadata": {},
   "source": [
    "### Class Definitions\n",
    "Consider making a Card class where each Card object has a suit and a rank, then a Deck class to hold all 52 Card objects, and can be shuffled, and finally a Hand class that holds those Cards that have been dealt to each player from the Deck."
   ]
  },
  {
   "cell_type": "markdown",
   "metadata": {},
   "source": [
    "**Step 2: Create a Card Class**<br>\n",
    "A Card object really only needs two attributes: suit and rank. You might add an attribute for \"value\" - we chose to handle value later when developing our Hand class.<br>In addition to the Card's \\_\\_init\\_\\_ method, consider adding a \\_\\_str\\_\\_ method that, when asked to print a Card, returns a string in the form \"Two of Hearts\""
   ]
  },
  {
   "cell_type": "code",
   "execution_count": null,
   "metadata": {},
   "outputs": [],
   "source": [
    "class Card:\n",
    "    \n",
    "    def __init__(self):\n",
    "        pass\n",
    "    \n",
    "    def __str__(self):\n",
    "        pass"
   ]
  },
  {
   "cell_type": "markdown",
   "metadata": {},
   "source": [
    "**Step 3: Create a Deck Class**<br>\n",
    "Here we might store 52 card objects in a list that can later be shuffled. First, though, we need to *instantiate* all 52 unique card objects and add them to our list. So long as the Card class definition appears in our code, we can build Card objects inside our Deck \\_\\_init\\_\\_ method. Consider iterating over sequences of suits and ranks to build out each card. This might appear inside a Deck class \\_\\_init\\_\\_ method:\n",
    "\n",
    "    for suit in suits:\n",
    "        for rank in ranks:\n",
    "\n",
    "In addition to an \\_\\_init\\_\\_ method we'll want to add methods to shuffle our deck, and to deal out cards during gameplay.<br><br>\n",
    "OPTIONAL: We may never need to print the contents of the deck during gameplay, but having the ability to see the cards inside it may help troubleshoot any problems that occur during development. With this in mind, consider adding a \\_\\_str\\_\\_ method to the class definition."
   ]
  },
  {
   "cell_type": "code",
   "execution_count": null,
   "metadata": {},
   "outputs": [],
   "source": [
    "class Deck:\n",
    "    \n",
    "    def __init__(self):\n",
    "        self.deck = []  # start with an empty list\n",
    "        for suit in suits:\n",
    "            for rank in ranks:\n",
    "                pass\n",
    "    \n",
    "    def __str__(self):\n",
    "        pass\n",
    "\n",
    "    def shuffle(self):\n",
    "        random.shuffle(self.deck)\n",
    "        \n",
    "    def deal(self):\n",
    "        pass"
   ]
  },
  {
   "cell_type": "markdown",
   "metadata": {},
   "source": [
    "TESTING: Just to see that everything works so far, let's see what our Deck looks like!"
   ]
  },
  {
   "cell_type": "code",
   "execution_count": null,
   "metadata": {},
   "outputs": [],
   "source": [
    "test_deck = Deck()\n",
    "print(test_deck)"
   ]
  },
  {
   "cell_type": "markdown",
   "metadata": {},
   "source": [
    "Great! Now let's move on to our Hand class."
   ]
  },
  {
   "cell_type": "markdown",
   "metadata": {},
   "source": [
    "**Step 4: Create a Hand Class**<br>\n",
    "In addition to holding Card objects dealt from the Deck, the Hand class may be used to calculate the value of those cards using the values dictionary defined above. It may also need to adjust for the value of Aces when appropriate."
   ]
  },
  {
   "cell_type": "code",
   "execution_count": null,
   "metadata": {},
   "outputs": [],
   "source": [
    "class Hand:\n",
    "    def __init__(self):\n",
    "        self.cards = []  # start with an empty list as we did in the Deck class\n",
    "        self.value = 0   # start with zero value\n",
    "        self.aces = 0    # add an attribute to keep track of aces\n",
    "    \n",
    "    def add_card(self,card):\n",
    "        pass\n",
    "    \n",
    "    def adjust_for_ace(self):\n",
    "        pass"
   ]
  },
  {
   "cell_type": "markdown",
   "metadata": {},
   "source": [
    "**Step 5: Create a Chips Class**<br>\n",
    "In addition to decks of cards and hands, we need to keep track of a Player's starting chips, bets, and ongoing winnings. This could be done using global variables, but in the spirit of object oriented programming, let's make a Chips class instead!"
   ]
  },
  {
   "cell_type": "code",
   "execution_count": null,
   "metadata": {},
   "outputs": [],
   "source": [
    "class Chips:\n",
    "    \n",
    "    def __init__(self):\n",
    "        self.total = 100  # This can be set to a default value or supplied by a user input\n",
    "        self.bet = 0\n",
    "        \n",
    "    def win_bet(self):\n",
    "        pass\n",
    "    \n",
    "    def lose_bet(self):\n",
    "        pass"
   ]
  },
  {
   "cell_type": "markdown",
   "metadata": {},
   "source": [
    "### Function Defintions\n",
    "A lot of steps are going to be repetitive. That's where functions come in! The following steps are guidelines - add or remove functions as needed in your own program."
   ]
  },
  {
   "cell_type": "markdown",
   "metadata": {},
   "source": [
    "**Step 6: Write a function for taking bets**<br>\n",
    "Since we're asking the user for an integer value, this would be a good place to use <code>try</code>/<code>except</code>. Remember to check that a Player's bet can be covered by their available chips."
   ]
  },
  {
   "cell_type": "code",
   "execution_count": null,
   "metadata": {},
   "outputs": [],
   "source": [
    "def take_bet():\n",
    "    \n",
    "    pass"
   ]
  },
  {
   "cell_type": "markdown",
   "metadata": {},
   "source": [
    "**Step 7: Write a function for taking hits**<br>\n",
    "Either player can take hits until they bust. This function will be called during gameplay anytime a Player requests a hit, or a Dealer's hand is less than 17. It should take in Deck and Hand objects as arguments, and deal one card off the deck and add it to the Hand. You may want it to check for aces in the event that a player's hand exceeds 21."
   ]
  },
  {
   "cell_type": "code",
   "execution_count": null,
   "metadata": {},
   "outputs": [],
   "source": [
    "def hit(deck,hand):\n",
    "    \n",
    "    pass"
   ]
  },
  {
   "cell_type": "markdown",
   "metadata": {},
   "source": [
    "**Step 8: Write a function prompting the Player to Hit or Stand**<br>\n",
    "This function should accept the deck and the player's hand as arguments, and assign playing as a global variable.<br>\n",
    "If the Player Hits, employ the hit() function above. If the Player Stands, set the playing variable to False - this will control the behavior of a <code>while</code> loop later on in our code."
   ]
  },
  {
   "cell_type": "code",
   "execution_count": null,
   "metadata": {},
   "outputs": [],
   "source": [
    "def hit_or_stand(deck,hand):\n",
    "    global playing  # to control an upcoming while loop\n",
    "    \n",
    "    pass"
   ]
  },
  {
   "cell_type": "markdown",
   "metadata": {},
   "source": [
    "**Step 9: Write functions to display cards**<br>\n",
    "When the game starts, and after each time Player takes a card, the dealer's first card is hidden and all of Player's cards are visible. At the end of the hand all cards are shown, and you may want to show each hand's total value. Write a function for each of these scenarios."
   ]
  },
  {
   "cell_type": "code",
   "execution_count": null,
   "metadata": {},
   "outputs": [],
   "source": [
    "def show_some(player,dealer):\n",
    "    \n",
    "    pass\n",
    "    \n",
    "def show_all(player,dealer):\n",
    "    \n",
    "    pass"
   ]
  },
  {
   "cell_type": "markdown",
   "metadata": {},
   "source": [
    "**Step 10: Write functions to handle end of game scenarios**<br>\n",
    "Remember to pass player's hand, dealer's hand and chips as needed."
   ]
  },
  {
   "cell_type": "code",
   "execution_count": null,
   "metadata": {},
   "outputs": [],
   "source": [
    "def player_busts():\n",
    "    pass\n",
    "\n",
    "def player_wins():\n",
    "    pass\n",
    "\n",
    "def dealer_busts():\n",
    "    pass\n",
    "    \n",
    "def dealer_wins():\n",
    "    pass\n",
    "    \n",
    "def push():\n",
    "    pass"
   ]
  },
  {
   "cell_type": "markdown",
   "metadata": {},
   "source": [
    "### And now on to the game!!"
   ]
  },
  {
   "cell_type": "code",
   "execution_count": null,
   "metadata": {},
   "outputs": [],
   "source": [
    "while True:\n",
    "    # Print an opening statement\n",
    "\n",
    "    \n",
    "    # Create & shuffle the deck, deal two cards to each player\n",
    "\n",
    "    \n",
    "        \n",
    "    # Set up the Player's chips\n",
    "    \n",
    "    \n",
    "    # Prompt the Player for their bet\n",
    "\n",
    "    \n",
    "    # Show cards (but keep one dealer card hidden)\n",
    "\n",
    "    \n",
    "    while playing:  # recall this variable from our hit_or_stand function\n",
    "        \n",
    "        # Prompt for Player to Hit or Stand\n",
    "        \n",
    "        \n",
    "        # Show cards (but keep one dealer card hidden)\n",
    " \n",
    "        \n",
    "        # If player's hand exceeds 21, run player_busts() and break out of loop\n",
    "        \n",
    "\n",
    "            break\n",
    "\n",
    "    # If Player hasn't busted, play Dealer's hand until Dealer reaches 17\n",
    "    \n",
    "    \n",
    "        # Show all cards\n",
    "    \n",
    "        # Run different winning scenarios\n",
    "        \n",
    "    \n",
    "    # Inform Player of their chips total \n",
    "    \n",
    "    # Ask to play again\n",
    "\n",
    "        break"
   ]
  },
  {
   "cell_type": "markdown",
   "metadata": {},
   "source": [
    "And that's it! Remember, these steps may differ significantly from your own solution. That's OK! Keep working on different sections of your program until you get the desired results. It takes a lot of time and patience! As always, feel free to post questions and comments to the QA Forums.\n",
    "# Good job!"
   ]
  }
 ],
 "metadata": {
  "kernelspec": {
   "display_name": "Python 3 (ipykernel)",
   "language": "python",
   "name": "python3"
  },
  "language_info": {
   "codemirror_mode": {
    "name": "ipython",
    "version": 3
   },
   "file_extension": ".py",
   "mimetype": "text/x-python",
   "name": "python",
   "nbconvert_exporter": "python",
   "pygments_lexer": "ipython3",
   "version": "3.8.7"
  }
 },
 "nbformat": 4,
 "nbformat_minor": 1
}

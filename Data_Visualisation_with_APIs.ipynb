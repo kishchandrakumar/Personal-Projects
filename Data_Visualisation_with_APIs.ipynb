{
 "cells": [
  {
   "cell_type": "markdown",
   "metadata": {},
   "source": [
    "## "
   ]
  },
  {
   "cell_type": "markdown",
   "metadata": {},
   "source": [
    "#### Main points: \n",
    "\n",
    "- Pyplot is useful to automatically resize visualisation for a range of digital devices  \n",
    "- "
   ]
  },
  {
   "cell_type": "code",
   "execution_count": 1,
   "metadata": {},
   "outputs": [],
   "source": [
    "import matplotlib.pyplot as plt\n",
    "import random"
   ]
  },
  {
   "cell_type": "code",
   "execution_count": 2,
   "metadata": {},
   "outputs": [],
   "source": [
    "class RandomWalk():\n",
    "    \"\"\"A class to generate points to visualise a random walk\"\"\"\n",
    "    def __init__(self, num_points=5000):\n",
    "        \"\"\"Initial attributes: \n",
    "           - Number of points to generate\n",
    "           - List of generated x values starting from 0\n",
    "           - List of generated x values starting from 0 \"\"\"\n",
    "        self.num_points = num_points\n",
    "        # Following will be plotted\n",
    "        self.x_values = [0]\n",
    "        self.y_values = [0]\n",
    "        \n",
    "#     def choice():\n",
    "#         move = [-1,1] #Possible random moves\n",
    "#         random.choice(move) #Selects element at random from list\n",
    "        \n",
    "    def walk(self):\n",
    "        #Walks start at (0,0)\n",
    "        x = 0\n",
    "        y = 0\n",
    "        \n",
    "        for i in range(self.num_points):\n",
    "            x += 1\n",
    "            y += random.choice([-1,1]) #randomly choose -1 or 1\n",
    "            \n",
    "            #Append these values to list\n",
    "            self.x_values.append(x)\n",
    "            self.y_values.append(y)\n",
    "        \n",
    "        "
   ]
  },
  {
   "cell_type": "code",
   "execution_count": 3,
   "metadata": {},
   "outputs": [
    {
     "data": {
      "text/plain": [
       "[<matplotlib.lines.Line2D at 0x11883b790>]"
      ]
     },
     "execution_count": 3,
     "metadata": {},
     "output_type": "execute_result"
    },
    {
     "data": {
      "image/png": "[encoded data removed]",
      "text/plain": [
       "<Figure size 432x288 with 1 Axes>"
      ]
     },
     "metadata": {
      "needs_background": "light"
     },
     "output_type": "display_data"
    }
   ],
   "source": [
    "#Initialise a walk and plot\n",
    "walk_1 = RandomWalk()\n",
    "walk_1.walk()\n",
    "\n",
    "x_values = walk_1.x_values\n",
    "y_values = walk_1.y_values\n",
    "\n",
    "fig, ax = plt.subplots()\n",
    "ax.plot(x_values, y_values, c='red')"
   ]
  },
  {
   "cell_type": "markdown",
   "metadata": {},
   "source": [
    "The random walk above is very basic:  \n",
    "- Only the y direction is randomised\n",
    "- x direction always increments by 1 step   \n",
    "\n",
    "Next, we try to develop this to create a more complex random walk."
   ]
  },
  {
   "cell_type": "code",
   "execution_count": null,
   "metadata": {},
   "outputs": [],
   "source": []
  }
 ],
 "metadata": {
  "kernelspec": {
   "display_name": "Python 3",
   "language": "python",
   "name": "python3"
  },
  "language_info": {
   "codemirror_mode": {
    "name": "ipython",
    "version": 3
   },
   "file_extension": ".py",
   "mimetype": "text/x-python",
   "name": "python",
   "nbconvert_exporter": "python",
   "pygments_lexer": "ipython3",
   "version": "3.7.6"
  }
 },
 "nbformat": 4,
 "nbformat_minor": 4
}

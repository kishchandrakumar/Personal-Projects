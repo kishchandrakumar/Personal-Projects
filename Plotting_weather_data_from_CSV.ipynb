{
 "cells": [
  {
   "cell_type": "code",
   "execution_count": 12,
   "metadata": {},
   "outputs": [],
   "source": [
    "import csv\n",
    "import matplotlib.pyplot as plt\n",
    "from datetime import datetime"
   ]
  },
  {
   "cell_type": "code",
   "execution_count": 23,
   "metadata": {},
   "outputs": [
    {
     "name": "stdout",
     "output_type": "stream",
     "text": [
      "0 STATION\n",
      "1 NAME\n",
      "2 DATE\n",
      "3 PRCP\n",
      "4 TAVG\n",
      "5 TMAX\n",
      "6 TMIN\n",
      "{'SITKA AIRPORT, AK US'}\n"
     ]
    }
   ],
   "source": [
    "filepath = 'data/sitka_weather_07-2018_simple.csv'\n",
    "with open(filepath) as f:\n",
    "    file_reader  = csv.reader(f) \n",
    "    header_row = next(file_reader)\n",
    "    \n",
    "    for row,col in enumerate(header_row):\n",
    "        print(row, col)\n",
    "        \n",
    "    stations = []\n",
    "    for i in file_reader:\n",
    "        stations.append(i[1])\n",
    "        \n",
    "print(set(stations))    "
   ]
  },
  {
   "cell_type": "code",
   "execution_count": null,
   "metadata": {},
   "outputs": [],
   "source": []
  },
  {
   "cell_type": "markdown",
   "metadata": {},
   "source": [
    "This dataset contains data from just 1 weather station, \"Sitka Airport\" including date, precipitation and temperature. For now we're only interested in the temperature data over time. "
   ]
  },
  {
   "cell_type": "code",
   "execution_count": 16,
   "metadata": {},
   "outputs": [
    {
     "name": "stdout",
     "output_type": "stream",
     "text": [
      "['2018-07-01', '2018-07-02', '2018-07-03', '2018-07-04', '2018-07-05', '2018-07-06', '2018-07-07', '2018-07-08', '2018-07-09', '2018-07-10', '2018-07-11', '2018-07-12', '2018-07-13', '2018-07-14', '2018-07-15', '2018-07-16', '2018-07-17', '2018-07-18', '2018-07-19', '2018-07-20', '2018-07-21', '2018-07-22', '2018-07-23', '2018-07-24', '2018-07-25', '2018-07-26', '2018-07-27', '2018-07-28', '2018-07-29', '2018-07-30', '2018-07-31']\n"
     ]
    }
   ],
   "source": [
    "with open(filepath) as f:\n",
    "    file_reader  = csv.reader(f) \n",
    "    header = next(file_reader)\n",
    "    \n",
    "    #Getting daily highs and low temperatures by indexing\n",
    "    highs, lows, dates = [], [], []\n",
    "    \n",
    "    for row in file_reader:\n",
    "        highs.append(int(row[5]))\n",
    "        lows.append(int(row[6]))\n",
    "        dates.append(row[2])\n",
    "print(dates)\n"
   ]
  },
  {
   "cell_type": "markdown",
   "metadata": {},
   "source": [
    "Dates are currently in string format so we convert to datetime:"
   ]
  },
  {
   "cell_type": "code",
   "execution_count": 17,
   "metadata": {},
   "outputs": [
    {
     "name": "stdout",
     "output_type": "stream",
     "text": [
      "[datetime.datetime(2018, 7, 1, 0, 0), datetime.datetime(2018, 7, 2, 0, 0), datetime.datetime(2018, 7, 3, 0, 0), datetime.datetime(2018, 7, 4, 0, 0), datetime.datetime(2018, 7, 5, 0, 0), datetime.datetime(2018, 7, 6, 0, 0), datetime.datetime(2018, 7, 7, 0, 0), datetime.datetime(2018, 7, 8, 0, 0), datetime.datetime(2018, 7, 9, 0, 0), datetime.datetime(2018, 7, 10, 0, 0), datetime.datetime(2018, 7, 11, 0, 0), datetime.datetime(2018, 7, 12, 0, 0), datetime.datetime(2018, 7, 13, 0, 0), datetime.datetime(2018, 7, 14, 0, 0), datetime.datetime(2018, 7, 15, 0, 0), datetime.datetime(2018, 7, 16, 0, 0), datetime.datetime(2018, 7, 17, 0, 0), datetime.datetime(2018, 7, 18, 0, 0), datetime.datetime(2018, 7, 19, 0, 0), datetime.datetime(2018, 7, 20, 0, 0), datetime.datetime(2018, 7, 21, 0, 0), datetime.datetime(2018, 7, 22, 0, 0), datetime.datetime(2018, 7, 23, 0, 0), datetime.datetime(2018, 7, 24, 0, 0), datetime.datetime(2018, 7, 25, 0, 0), datetime.datetime(2018, 7, 26, 0, 0), datetime.datetime(2018, 7, 27, 0, 0), datetime.datetime(2018, 7, 28, 0, 0), datetime.datetime(2018, 7, 29, 0, 0), datetime.datetime(2018, 7, 30, 0, 0), datetime.datetime(2018, 7, 31, 0, 0)]\n"
     ]
    }
   ],
   "source": [
    "with open(filepath) as f:\n",
    "    file_reader  = csv.reader(f) \n",
    "    header = next(file_reader)\n",
    "\n",
    "    dates = []\n",
    "    for row in file_reader:\n",
    "        dates.append(datetime.strptime(row[2],'%Y-%m-%d'))\n",
    "print(dates)"
   ]
  },
  {
   "cell_type": "code",
   "execution_count": 27,
   "metadata": {},
   "outputs": [
    {
     "data": {
      "image/png": "[encoded data removed]",
      "text/plain": [
       "<Figure size 432x288 with 1 Axes>"
      ]
     },
     "metadata": {
      "needs_background": "light"
     },
     "output_type": "display_data"
    }
   ],
   "source": [
    "fig, ax = plt.subplots()\n",
    "ax.plot(dates,highs, c='red', alpha=0.5)\n",
    "ax.plot(dates,lows, c='blue', alpha=0.5)\n",
    "ax.fill_between(dates, highs, lows, facecolor='green', alpha=0.1)\n",
    "\n",
    "ax.set_title('Daily high and low temperatures in July 2018', fontsize=16)\n",
    "ax.set_xlabel('Date')\n",
    "ax.set_ylabel('Temperature (F)')\n",
    "ax.tick_params(which='major')\n",
    "fig.autofmt_xdate() #Formats dates to appear diagonally"
   ]
  },
  {
   "cell_type": "markdown",
   "metadata": {},
   "source": [
    "Now we expand to look at an entire year's worth of data"
   ]
  },
  {
   "cell_type": "code",
   "execution_count": null,
   "metadata": {},
   "outputs": [],
   "source": [
    "filepath = ''"
   ]
  }
 ],
 "metadata": {
  "kernelspec": {
   "display_name": "Python 3",
   "language": "python",
   "name": "python3"
  },
  "language_info": {
   "codemirror_mode": {
    "name": "ipython",
    "version": 3
   },
   "file_extension": ".py",
   "mimetype": "text/x-python",
   "name": "python",
   "nbconvert_exporter": "python",
   "pygments_lexer": "ipython3",
   "version": "3.7.6"
  }
 },
 "nbformat": 4,
 "nbformat_minor": 4
}

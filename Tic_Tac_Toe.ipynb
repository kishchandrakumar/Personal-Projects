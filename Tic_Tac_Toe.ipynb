{
 "cells": [
  {
   "cell_type": "markdown",
   "metadata": {},
   "source": [
    "#### Tic Tac Toe\n",
    "\n",
    "2 player game"
   ]
  },
  {
   "cell_type": "markdown",
   "metadata": {},
   "source": [
    "Unsure of: \n",
    "\n",
    "- how user inputs x or o\n",
    "- "
   ]
  },
  {
   "cell_type": "code",
   "execution_count": null,
   "metadata": {},
   "outputs": [],
   "source": []
  },
  {
   "cell_type": "code",
   "execution_count": 1,
   "metadata": {},
   "outputs": [],
   "source": [
    "def display(row1, row2, row3): #Inputs are lists\n",
    "    print(row1)\n",
    "    print(row2)\n",
    "    print(row3)    \n",
    "    \n",
    "    "
   ]
  },
  {
   "cell_type": "code",
   "execution_count": 2,
   "metadata": {},
   "outputs": [
    {
     "name": "stdout",
     "output_type": "stream",
     "text": [
      "[' ', ' ', ' ']\n",
      "[' ', ' ', ' ']\n",
      "[' ', ' ', ' ']\n"
     ]
    }
   ],
   "source": [
    "row1 = [' ', ' ', ' ']\n",
    "row2 = [' ', ' ', ' ']\n",
    "row3 = [' ', ' ', ' ']\n",
    "\n",
    "display(row1,row2,row3)"
   ]
  },
  {
   "cell_type": "code",
   "execution_count": 7,
   "metadata": {},
   "outputs": [],
   "source": [
    "\n",
    "\n",
    "#Player 1 enters where to place x\n",
    "\n",
    "def user_choice():\n",
    "    \n",
    "    row_choice = input(\"Which row (1,2 or 3)? \") #this will be a string\n",
    "    \n",
    "    \n",
    "    while row_choice not in ['1','2','3']:   #Can also use .isdigit method\n",
    "        \n",
    "        row_choice = input(\"Which row (1,2 or 3)? \")\n",
    "    \n",
    "    #### column choice ####\n",
    "    #######################\n",
    "    \n",
    "    col_choice = input(\"Which column? \")\n",
    "    \n",
    "    while col_choice not in ['1','2','3']:   #Can also use .isdigit method\n",
    "        \n",
    "        col_choice = input(\"Which column (1,2 or 3)? \")\n",
    "\n",
    "        \n",
    "    return [int(row_choice), int(col_choice)]"
   ]
  },
  {
   "cell_type": "code",
   "execution_count": null,
   "metadata": {},
   "outputs": [],
   "source": [
    "def player_input():\n",
    "    \n",
    "    playerX = True\n",
    "    playerO = False\n",
    "    choice = 'Temp'\n",
    "    \n",
    "    while playerX:\n",
    "        \n",
    "        print('Player 1')\n",
    "        choice = input(\"Enter a position to put an X (1-9): \")\n",
    "        if choice.isdigit():\n",
    "            \n",
    "            if int(choice) in range(1,10):\n",
    "                test_board2[int(choice)] = 'X'\n",
    "                choice = 'Temp'\n",
    "                playerX = False\n",
    "                playerO = True\n",
    "                \n",
    "            else:\n",
    "                print('Not in range!')\n",
    "                choice = 'Temp'\n",
    "                \n",
    "        else:\n",
    "            print('Not a number!')\n",
    "            \n",
    "    return display_board(test_board2)\n",
    "    "
   ]
  },
  {
   "cell_type": "code",
   "execution_count": 6,
   "metadata": {},
   "outputs": [
    {
     "name": "stdout",
     "output_type": "stream",
     "text": [
      "Which row (1,2 or 3)? 3\n",
      "Which column? 1\n"
     ]
    },
    {
     "data": {
      "text/plain": [
       "[3, 1]"
      ]
     },
     "execution_count": 6,
     "metadata": {},
     "output_type": "execute_result"
    }
   ],
   "source": [
    "user_choice()"
   ]
  },
  {
   "cell_type": "code",
   "execution_count": null,
   "metadata": {},
   "outputs": [],
   "source": []
  }
 ],
 "metadata": {
  "kernelspec": {
   "display_name": "Python 3",
   "language": "python",
   "name": "python3"
  },
  "language_info": {
   "codemirror_mode": {
    "name": "ipython",
    "version": 3
   },
   "file_extension": ".py",
   "mimetype": "text/x-python",
   "name": "python",
   "nbconvert_exporter": "python",
   "pygments_lexer": "ipython3",
   "version": "3.7.6"
  }
 },
 "nbformat": 4,
 "nbformat_minor": 4
}
